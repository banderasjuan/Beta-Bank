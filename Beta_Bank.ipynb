{
 "cells": [
  {
   "cell_type": "markdown",
   "metadata": {},
   "source": [
    "# Descripción del proyecto "
   ]
  },
  {
   "cell_type": "markdown",
   "metadata": {},
   "source": [
    "Los clientes de Beta Bank se están yendo, cada mes, poco a poco. Los banqueros descubrieron que es más barato salvar a los clientes existentes que atraer nuevos.\n",
    "\n",
    "Necesitamos predecir si un cliente dejará el banco pronto. Tú tienes los datos sobre el comportamiento pasado de los clientes y la terminación de contratos con el banco.\n",
    "\n",
    "Crea un modelo con el máximo valor F1 posible. Para aprobar la revisión, necesitas un valor F1 de al menos 0.59. Verifica F1 para el conjunto de prueba. \n",
    "\n",
    "Además, debes medir la métrica AUC-ROC y compararla con el valor F1."
   ]
  },
  {
   "cell_type": "markdown",
   "metadata": {},
   "source": [
    "# Inicialización"
   ]
  },
  {
   "cell_type": "code",
   "execution_count": 7,
   "metadata": {},
   "outputs": [],
   "source": [
    "\n",
    "#carguemos las liberias que vamos a necesitar\n",
    "import pandas as pd \n",
    "import numpy as np\n",
    "from sklearn.preprocessing import LabelEncoder\n",
    "from sklearn.preprocessing import StandardScaler\n",
    "from sklearn.model_selection import train_test_split\n",
    "from sklearn.metrics import f1_score\n",
    "from sklearn.metrics import roc_auc_score\n",
    "from sklearn.ensemble import RandomForestClassifier\n",
    "from sklearn.linear_model import LogisticRegression\n",
    "from sklearn.utils import shuffle\n",
    "from sklearn.metrics import confusion_matrix\n",
    "from sklearn.metrics import classification_report\n",
    "from sklearn.metrics import roc_curve\n",
    "from sklearn.metrics import roc_auc_score\n",
    "from matplotlib import pyplot as plt\n",
    "import seaborn as sns\n"
   ]
  },
  {
   "cell_type": "markdown",
   "metadata": {},
   "source": [
    "# Carga de datos"
   ]
  },
  {
   "cell_type": "code",
   "execution_count": 8,
   "metadata": {},
   "outputs": [],
   "source": [
    "data = pd.read_csv('./Churn.csv')"
   ]
  },
  {
   "cell_type": "markdown",
   "metadata": {},
   "source": [
    "# Revisión de datos "
   ]
  },
  {
   "cell_type": "code",
   "execution_count": 9,
   "metadata": {},
   "outputs": [
    {
     "data": {
      "text/html": [
       "<div>\n",
       "<style scoped>\n",
       "    .dataframe tbody tr th:only-of-type {\n",
       "        vertical-align: middle;\n",
       "    }\n",
       "\n",
       "    .dataframe tbody tr th {\n",
       "        vertical-align: top;\n",
       "    }\n",
       "\n",
       "    .dataframe thead th {\n",
       "        text-align: right;\n",
       "    }\n",
       "</style>\n",
       "<table border=\"1\" class=\"dataframe\">\n",
       "  <thead>\n",
       "    <tr style=\"text-align: right;\">\n",
       "      <th></th>\n",
       "      <th>RowNumber</th>\n",
       "      <th>CustomerId</th>\n",
       "      <th>Surname</th>\n",
       "      <th>CreditScore</th>\n",
       "      <th>Geography</th>\n",
       "      <th>Gender</th>\n",
       "      <th>Age</th>\n",
       "      <th>Tenure</th>\n",
       "      <th>Balance</th>\n",
       "      <th>NumOfProducts</th>\n",
       "      <th>HasCrCard</th>\n",
       "      <th>IsActiveMember</th>\n",
       "      <th>EstimatedSalary</th>\n",
       "      <th>Exited</th>\n",
       "    </tr>\n",
       "  </thead>\n",
       "  <tbody>\n",
       "    <tr>\n",
       "      <th>2194</th>\n",
       "      <td>2195</td>\n",
       "      <td>15710161</td>\n",
       "      <td>Ko</td>\n",
       "      <td>850</td>\n",
       "      <td>France</td>\n",
       "      <td>Female</td>\n",
       "      <td>34</td>\n",
       "      <td>2.0</td>\n",
       "      <td>0.00</td>\n",
       "      <td>2</td>\n",
       "      <td>1</td>\n",
       "      <td>1</td>\n",
       "      <td>171706.66</td>\n",
       "      <td>0</td>\n",
       "    </tr>\n",
       "    <tr>\n",
       "      <th>6240</th>\n",
       "      <td>6241</td>\n",
       "      <td>15626507</td>\n",
       "      <td>Chukwubuikem</td>\n",
       "      <td>558</td>\n",
       "      <td>France</td>\n",
       "      <td>Male</td>\n",
       "      <td>27</td>\n",
       "      <td>NaN</td>\n",
       "      <td>152283.39</td>\n",
       "      <td>1</td>\n",
       "      <td>1</td>\n",
       "      <td>0</td>\n",
       "      <td>183271.15</td>\n",
       "      <td>0</td>\n",
       "    </tr>\n",
       "    <tr>\n",
       "      <th>2852</th>\n",
       "      <td>2853</td>\n",
       "      <td>15771483</td>\n",
       "      <td>Arnold</td>\n",
       "      <td>609</td>\n",
       "      <td>France</td>\n",
       "      <td>Male</td>\n",
       "      <td>40</td>\n",
       "      <td>6.0</td>\n",
       "      <td>0.00</td>\n",
       "      <td>2</td>\n",
       "      <td>1</td>\n",
       "      <td>1</td>\n",
       "      <td>97416.34</td>\n",
       "      <td>0</td>\n",
       "    </tr>\n",
       "    <tr>\n",
       "      <th>5817</th>\n",
       "      <td>5818</td>\n",
       "      <td>15656865</td>\n",
       "      <td>Gray</td>\n",
       "      <td>613</td>\n",
       "      <td>Germany</td>\n",
       "      <td>Male</td>\n",
       "      <td>69</td>\n",
       "      <td>9.0</td>\n",
       "      <td>78778.49</td>\n",
       "      <td>1</td>\n",
       "      <td>0</td>\n",
       "      <td>1</td>\n",
       "      <td>8751.59</td>\n",
       "      <td>0</td>\n",
       "    </tr>\n",
       "    <tr>\n",
       "      <th>7013</th>\n",
       "      <td>7014</td>\n",
       "      <td>15599440</td>\n",
       "      <td>McGregor</td>\n",
       "      <td>748</td>\n",
       "      <td>France</td>\n",
       "      <td>Female</td>\n",
       "      <td>34</td>\n",
       "      <td>NaN</td>\n",
       "      <td>0.00</td>\n",
       "      <td>2</td>\n",
       "      <td>1</td>\n",
       "      <td>0</td>\n",
       "      <td>53584.03</td>\n",
       "      <td>0</td>\n",
       "    </tr>\n",
       "    <tr>\n",
       "      <th>4410</th>\n",
       "      <td>4411</td>\n",
       "      <td>15691871</td>\n",
       "      <td>Millar</td>\n",
       "      <td>503</td>\n",
       "      <td>Germany</td>\n",
       "      <td>Male</td>\n",
       "      <td>42</td>\n",
       "      <td>9.0</td>\n",
       "      <td>153279.39</td>\n",
       "      <td>1</td>\n",
       "      <td>1</td>\n",
       "      <td>1</td>\n",
       "      <td>151336.96</td>\n",
       "      <td>0</td>\n",
       "    </tr>\n",
       "    <tr>\n",
       "      <th>4636</th>\n",
       "      <td>4637</td>\n",
       "      <td>15630709</td>\n",
       "      <td>Castiglione</td>\n",
       "      <td>619</td>\n",
       "      <td>Germany</td>\n",
       "      <td>Female</td>\n",
       "      <td>31</td>\n",
       "      <td>2.0</td>\n",
       "      <td>56116.30</td>\n",
       "      <td>2</td>\n",
       "      <td>0</td>\n",
       "      <td>0</td>\n",
       "      <td>2181.94</td>\n",
       "      <td>0</td>\n",
       "    </tr>\n",
       "    <tr>\n",
       "      <th>566</th>\n",
       "      <td>567</td>\n",
       "      <td>15651674</td>\n",
       "      <td>Billson</td>\n",
       "      <td>438</td>\n",
       "      <td>Spain</td>\n",
       "      <td>Female</td>\n",
       "      <td>54</td>\n",
       "      <td>NaN</td>\n",
       "      <td>0.00</td>\n",
       "      <td>1</td>\n",
       "      <td>0</td>\n",
       "      <td>0</td>\n",
       "      <td>191763.07</td>\n",
       "      <td>1</td>\n",
       "    </tr>\n",
       "    <tr>\n",
       "      <th>3093</th>\n",
       "      <td>3094</td>\n",
       "      <td>15667742</td>\n",
       "      <td>Vincent</td>\n",
       "      <td>627</td>\n",
       "      <td>Spain</td>\n",
       "      <td>Male</td>\n",
       "      <td>41</td>\n",
       "      <td>5.0</td>\n",
       "      <td>100880.76</td>\n",
       "      <td>1</td>\n",
       "      <td>0</td>\n",
       "      <td>1</td>\n",
       "      <td>134665.25</td>\n",
       "      <td>0</td>\n",
       "    </tr>\n",
       "    <tr>\n",
       "      <th>1920</th>\n",
       "      <td>1921</td>\n",
       "      <td>15723720</td>\n",
       "      <td>McKenzie</td>\n",
       "      <td>591</td>\n",
       "      <td>France</td>\n",
       "      <td>Female</td>\n",
       "      <td>31</td>\n",
       "      <td>7.0</td>\n",
       "      <td>0.00</td>\n",
       "      <td>2</td>\n",
       "      <td>0</td>\n",
       "      <td>1</td>\n",
       "      <td>48778.46</td>\n",
       "      <td>0</td>\n",
       "    </tr>\n",
       "  </tbody>\n",
       "</table>\n",
       "</div>"
      ],
      "text/plain": [
       "      RowNumber  CustomerId       Surname  CreditScore Geography  Gender  Age  \\\n",
       "2194       2195    15710161            Ko          850    France  Female   34   \n",
       "6240       6241    15626507  Chukwubuikem          558    France    Male   27   \n",
       "2852       2853    15771483        Arnold          609    France    Male   40   \n",
       "5817       5818    15656865          Gray          613   Germany    Male   69   \n",
       "7013       7014    15599440      McGregor          748    France  Female   34   \n",
       "4410       4411    15691871        Millar          503   Germany    Male   42   \n",
       "4636       4637    15630709   Castiglione          619   Germany  Female   31   \n",
       "566         567    15651674       Billson          438     Spain  Female   54   \n",
       "3093       3094    15667742       Vincent          627     Spain    Male   41   \n",
       "1920       1921    15723720      McKenzie          591    France  Female   31   \n",
       "\n",
       "      Tenure    Balance  NumOfProducts  HasCrCard  IsActiveMember  \\\n",
       "2194     2.0       0.00              2          1               1   \n",
       "6240     NaN  152283.39              1          1               0   \n",
       "2852     6.0       0.00              2          1               1   \n",
       "5817     9.0   78778.49              1          0               1   \n",
       "7013     NaN       0.00              2          1               0   \n",
       "4410     9.0  153279.39              1          1               1   \n",
       "4636     2.0   56116.30              2          0               0   \n",
       "566      NaN       0.00              1          0               0   \n",
       "3093     5.0  100880.76              1          0               1   \n",
       "1920     7.0       0.00              2          0               1   \n",
       "\n",
       "      EstimatedSalary  Exited  \n",
       "2194        171706.66       0  \n",
       "6240        183271.15       0  \n",
       "2852         97416.34       0  \n",
       "5817          8751.59       0  \n",
       "7013         53584.03       0  \n",
       "4410        151336.96       0  \n",
       "4636          2181.94       0  \n",
       "566         191763.07       1  \n",
       "3093        134665.25       0  \n",
       "1920         48778.46       0  "
      ]
     },
     "execution_count": 9,
     "metadata": {},
     "output_type": "execute_result"
    }
   ],
   "source": [
    "data.sample(10)"
   ]
  },
  {
   "cell_type": "code",
   "execution_count": 10,
   "metadata": {},
   "outputs": [
    {
     "name": "stdout",
     "output_type": "stream",
     "text": [
      "<class 'pandas.core.frame.DataFrame'>\n",
      "RangeIndex: 10000 entries, 0 to 9999\n",
      "Data columns (total 14 columns):\n",
      " #   Column           Non-Null Count  Dtype  \n",
      "---  ------           --------------  -----  \n",
      " 0   RowNumber        10000 non-null  int64  \n",
      " 1   CustomerId       10000 non-null  int64  \n",
      " 2   Surname          10000 non-null  object \n",
      " 3   CreditScore      10000 non-null  int64  \n",
      " 4   Geography        10000 non-null  object \n",
      " 5   Gender           10000 non-null  object \n",
      " 6   Age              10000 non-null  int64  \n",
      " 7   Tenure           9091 non-null   float64\n",
      " 8   Balance          10000 non-null  float64\n",
      " 9   NumOfProducts    10000 non-null  int64  \n",
      " 10  HasCrCard        10000 non-null  int64  \n",
      " 11  IsActiveMember   10000 non-null  int64  \n",
      " 12  EstimatedSalary  10000 non-null  float64\n",
      " 13  Exited           10000 non-null  int64  \n",
      "dtypes: float64(3), int64(8), object(3)\n",
      "memory usage: 1.1+ MB\n"
     ]
    }
   ],
   "source": [
    "data.info()"
   ]
  },
  {
   "cell_type": "markdown",
   "metadata": {},
   "source": [
    "el tipo de datos parece correcto."
   ]
  },
  {
   "cell_type": "code",
   "execution_count": 11,
   "metadata": {},
   "outputs": [
    {
     "data": {
      "text/plain": [
       "<Axes: xlabel='Tenure'>"
      ]
     },
     "execution_count": 11,
     "metadata": {},
     "output_type": "execute_result"
    },
    {
     "data": {
      "image/png": "[encoded data removed]",
      "text/plain": [
       "<Figure size 640x480 with 1 Axes>"
      ]
     },
     "metadata": {},
     "output_type": "display_data"
    }
   ],
   "source": [
    "sns.boxplot(x=data['Tenure'])"
   ]
  },
  {
   "cell_type": "code",
   "execution_count": 12,
   "metadata": {},
   "outputs": [
    {
     "data": {
      "text/plain": [
       "RowNumber            0\n",
       "CustomerId           0\n",
       "Surname              0\n",
       "CreditScore          0\n",
       "Geography            0\n",
       "Gender               0\n",
       "Age                  0\n",
       "Tenure             909\n",
       "Balance              0\n",
       "NumOfProducts        0\n",
       "HasCrCard            0\n",
       "IsActiveMember       0\n",
       "EstimatedSalary      0\n",
       "Exited               0\n",
       "dtype: int64"
      ]
     },
     "execution_count": 12,
     "metadata": {},
     "output_type": "execute_result"
    }
   ],
   "source": [
    "data.isna().sum()"
   ]
  },
  {
   "cell_type": "markdown",
   "metadata": {},
   "source": [
    "Tenemos datos ausentes en la columna Tenure que hay que corregir. "
   ]
  },
  {
   "cell_type": "code",
   "execution_count": 13,
   "metadata": {},
   "outputs": [
    {
     "data": {
      "text/html": [
       "<div>\n",
       "<style scoped>\n",
       "    .dataframe tbody tr th:only-of-type {\n",
       "        vertical-align: middle;\n",
       "    }\n",
       "\n",
       "    .dataframe tbody tr th {\n",
       "        vertical-align: top;\n",
       "    }\n",
       "\n",
       "    .dataframe thead th {\n",
       "        text-align: right;\n",
       "    }\n",
       "</style>\n",
       "<table border=\"1\" class=\"dataframe\">\n",
       "  <thead>\n",
       "    <tr style=\"text-align: right;\">\n",
       "      <th></th>\n",
       "      <th>RowNumber</th>\n",
       "      <th>CustomerId</th>\n",
       "      <th>CreditScore</th>\n",
       "      <th>Age</th>\n",
       "      <th>Tenure</th>\n",
       "      <th>Balance</th>\n",
       "      <th>NumOfProducts</th>\n",
       "      <th>HasCrCard</th>\n",
       "      <th>IsActiveMember</th>\n",
       "      <th>EstimatedSalary</th>\n",
       "      <th>Exited</th>\n",
       "    </tr>\n",
       "  </thead>\n",
       "  <tbody>\n",
       "    <tr>\n",
       "      <th>count</th>\n",
       "      <td>10000.00000</td>\n",
       "      <td>1.000000e+04</td>\n",
       "      <td>10000.000000</td>\n",
       "      <td>10000.000000</td>\n",
       "      <td>9091.000000</td>\n",
       "      <td>10000.000000</td>\n",
       "      <td>10000.000000</td>\n",
       "      <td>10000.00000</td>\n",
       "      <td>10000.000000</td>\n",
       "      <td>10000.000000</td>\n",
       "      <td>10000.000000</td>\n",
       "    </tr>\n",
       "    <tr>\n",
       "      <th>mean</th>\n",
       "      <td>5000.50000</td>\n",
       "      <td>1.569094e+07</td>\n",
       "      <td>650.528800</td>\n",
       "      <td>38.921800</td>\n",
       "      <td>4.997690</td>\n",
       "      <td>76485.889288</td>\n",
       "      <td>1.530200</td>\n",
       "      <td>0.70550</td>\n",
       "      <td>0.515100</td>\n",
       "      <td>100090.239881</td>\n",
       "      <td>0.203700</td>\n",
       "    </tr>\n",
       "    <tr>\n",
       "      <th>std</th>\n",
       "      <td>2886.89568</td>\n",
       "      <td>7.193619e+04</td>\n",
       "      <td>96.653299</td>\n",
       "      <td>10.487806</td>\n",
       "      <td>2.894723</td>\n",
       "      <td>62397.405202</td>\n",
       "      <td>0.581654</td>\n",
       "      <td>0.45584</td>\n",
       "      <td>0.499797</td>\n",
       "      <td>57510.492818</td>\n",
       "      <td>0.402769</td>\n",
       "    </tr>\n",
       "    <tr>\n",
       "      <th>min</th>\n",
       "      <td>1.00000</td>\n",
       "      <td>1.556570e+07</td>\n",
       "      <td>350.000000</td>\n",
       "      <td>18.000000</td>\n",
       "      <td>0.000000</td>\n",
       "      <td>0.000000</td>\n",
       "      <td>1.000000</td>\n",
       "      <td>0.00000</td>\n",
       "      <td>0.000000</td>\n",
       "      <td>11.580000</td>\n",
       "      <td>0.000000</td>\n",
       "    </tr>\n",
       "    <tr>\n",
       "      <th>25%</th>\n",
       "      <td>2500.75000</td>\n",
       "      <td>1.562853e+07</td>\n",
       "      <td>584.000000</td>\n",
       "      <td>32.000000</td>\n",
       "      <td>2.000000</td>\n",
       "      <td>0.000000</td>\n",
       "      <td>1.000000</td>\n",
       "      <td>0.00000</td>\n",
       "      <td>0.000000</td>\n",
       "      <td>51002.110000</td>\n",
       "      <td>0.000000</td>\n",
       "    </tr>\n",
       "    <tr>\n",
       "      <th>50%</th>\n",
       "      <td>5000.50000</td>\n",
       "      <td>1.569074e+07</td>\n",
       "      <td>652.000000</td>\n",
       "      <td>37.000000</td>\n",
       "      <td>5.000000</td>\n",
       "      <td>97198.540000</td>\n",
       "      <td>1.000000</td>\n",
       "      <td>1.00000</td>\n",
       "      <td>1.000000</td>\n",
       "      <td>100193.915000</td>\n",
       "      <td>0.000000</td>\n",
       "    </tr>\n",
       "    <tr>\n",
       "      <th>75%</th>\n",
       "      <td>7500.25000</td>\n",
       "      <td>1.575323e+07</td>\n",
       "      <td>718.000000</td>\n",
       "      <td>44.000000</td>\n",
       "      <td>7.000000</td>\n",
       "      <td>127644.240000</td>\n",
       "      <td>2.000000</td>\n",
       "      <td>1.00000</td>\n",
       "      <td>1.000000</td>\n",
       "      <td>149388.247500</td>\n",
       "      <td>0.000000</td>\n",
       "    </tr>\n",
       "    <tr>\n",
       "      <th>max</th>\n",
       "      <td>10000.00000</td>\n",
       "      <td>1.581569e+07</td>\n",
       "      <td>850.000000</td>\n",
       "      <td>92.000000</td>\n",
       "      <td>10.000000</td>\n",
       "      <td>250898.090000</td>\n",
       "      <td>4.000000</td>\n",
       "      <td>1.00000</td>\n",
       "      <td>1.000000</td>\n",
       "      <td>199992.480000</td>\n",
       "      <td>1.000000</td>\n",
       "    </tr>\n",
       "  </tbody>\n",
       "</table>\n",
       "</div>"
      ],
      "text/plain": [
       "         RowNumber    CustomerId   CreditScore           Age       Tenure  \\\n",
       "count  10000.00000  1.000000e+04  10000.000000  10000.000000  9091.000000   \n",
       "mean    5000.50000  1.569094e+07    650.528800     38.921800     4.997690   \n",
       "std     2886.89568  7.193619e+04     96.653299     10.487806     2.894723   \n",
       "min        1.00000  1.556570e+07    350.000000     18.000000     0.000000   \n",
       "25%     2500.75000  1.562853e+07    584.000000     32.000000     2.000000   \n",
       "50%     5000.50000  1.569074e+07    652.000000     37.000000     5.000000   \n",
       "75%     7500.25000  1.575323e+07    718.000000     44.000000     7.000000   \n",
       "max    10000.00000  1.581569e+07    850.000000     92.000000    10.000000   \n",
       "\n",
       "             Balance  NumOfProducts    HasCrCard  IsActiveMember  \\\n",
       "count   10000.000000   10000.000000  10000.00000    10000.000000   \n",
       "mean    76485.889288       1.530200      0.70550        0.515100   \n",
       "std     62397.405202       0.581654      0.45584        0.499797   \n",
       "min         0.000000       1.000000      0.00000        0.000000   \n",
       "25%         0.000000       1.000000      0.00000        0.000000   \n",
       "50%     97198.540000       1.000000      1.00000        1.000000   \n",
       "75%    127644.240000       2.000000      1.00000        1.000000   \n",
       "max    250898.090000       4.000000      1.00000        1.000000   \n",
       "\n",
       "       EstimatedSalary        Exited  \n",
       "count     10000.000000  10000.000000  \n",
       "mean     100090.239881      0.203700  \n",
       "std       57510.492818      0.402769  \n",
       "min          11.580000      0.000000  \n",
       "25%       51002.110000      0.000000  \n",
       "50%      100193.915000      0.000000  \n",
       "75%      149388.247500      0.000000  \n",
       "max      199992.480000      1.000000  "
      ]
     },
     "execution_count": 13,
     "metadata": {},
     "output_type": "execute_result"
    }
   ],
   "source": [
    "data.describe()"
   ]
  },
  {
   "cell_type": "code",
   "execution_count": 14,
   "metadata": {},
   "outputs": [
    {
     "data": {
      "text/plain": [
       "Geography\n",
       "France     5014\n",
       "Germany    2509\n",
       "Spain      2477\n",
       "Name: count, dtype: int64"
      ]
     },
     "execution_count": 14,
     "metadata": {},
     "output_type": "execute_result"
    }
   ],
   "source": [
    "data['Geography'].value_counts()"
   ]
  },
  {
   "cell_type": "markdown",
   "metadata": {},
   "source": [
    "observamos que cerca de la mitad de las personas residen en Francia y el resto está dividido entre Alemania y España. "
   ]
  },
  {
   "cell_type": "code",
   "execution_count": 15,
   "metadata": {},
   "outputs": [
    {
     "data": {
      "text/plain": [
       "Exited\n",
       "0    7963\n",
       "1    2037\n",
       "Name: count, dtype: int64"
      ]
     },
     "execution_count": 15,
     "metadata": {},
     "output_type": "execute_result"
    }
   ],
   "source": [
    "data['Exited'].value_counts()"
   ]
  },
  {
   "cell_type": "markdown",
   "metadata": {},
   "source": [
    "Vemos que en nuestra variable objetivo existe una disparidad (desbalanceo) en los datos, 1/3 de los datos son positivos(se fueron del banco) y 2/3 son negativos(aún permanecen en el banco)"
   ]
  },
  {
   "cell_type": "markdown",
   "metadata": {},
   "source": [
    "# Reparación de datos"
   ]
  },
  {
   "cell_type": "code",
   "execution_count": 16,
   "metadata": {},
   "outputs": [
    {
     "name": "stderr",
     "output_type": "stream",
     "text": [
      "/var/folders/5p/2k4j0bp9765brxsy2bdmtt6w0000gn/T/ipykernel_29596/4179817504.py:3: FutureWarning: A value is trying to be set on a copy of a DataFrame or Series through chained assignment using an inplace method.\n",
      "The behavior will change in pandas 3.0. This inplace method will never work because the intermediate object on which we are setting values always behaves as a copy.\n",
      "\n",
      "For example, when doing 'df[col].method(value, inplace=True)', try using 'df.method({col: value}, inplace=True)' or df[col] = df[col].method(value) instead, to perform the operation inplace on the original object.\n",
      "\n",
      "\n",
      "  data['Tenure'].fillna(ten_mean, inplace=True)\n"
     ]
    },
    {
     "data": {
      "text/plain": [
       "RowNumber          0\n",
       "CustomerId         0\n",
       "Surname            0\n",
       "CreditScore        0\n",
       "Geography          0\n",
       "Gender             0\n",
       "Age                0\n",
       "Tenure             0\n",
       "Balance            0\n",
       "NumOfProducts      0\n",
       "HasCrCard          0\n",
       "IsActiveMember     0\n",
       "EstimatedSalary    0\n",
       "Exited             0\n",
       "dtype: int64"
      ]
     },
     "execution_count": 16,
     "metadata": {},
     "output_type": "execute_result"
    }
   ],
   "source": [
    "#vamos a llenar los datos ausentes de tenure con la media \n",
    "ten_mean = data['Tenure'].mean()\n",
    "data['Tenure'].fillna(ten_mean, inplace=True)\n",
    "data.isna().sum()\n"
   ]
  },
  {
   "cell_type": "markdown",
   "metadata": {},
   "source": [
    "# Codificación de datos "
   ]
  },
  {
   "cell_type": "code",
   "execution_count": 17,
   "metadata": {},
   "outputs": [],
   "source": [
    "#Creamos nuestro objetivos y las caracteristicas y codifiquemos nuestros datos \n",
    "target = data['Exited']\n",
    "#En este caso los valores 'Exited', 'Surname', 'RowNumber' y 'CustomerId' NO nos sirven porque no aportan valor al modelo. Vamos a eliminarlos de nuestras caracteristicas \n",
    "features = data.drop(columns=['Exited','Surname','RowNumber','CustomerId'])\n",
    "featurs_one = pd.get_dummies(features, drop_first=True)"
   ]
  },
  {
   "cell_type": "code",
   "execution_count": 18,
   "metadata": {},
   "outputs": [
    {
     "data": {
      "text/html": [
       "<div>\n",
       "<style scoped>\n",
       "    .dataframe tbody tr th:only-of-type {\n",
       "        vertical-align: middle;\n",
       "    }\n",
       "\n",
       "    .dataframe tbody tr th {\n",
       "        vertical-align: top;\n",
       "    }\n",
       "\n",
       "    .dataframe thead th {\n",
       "        text-align: right;\n",
       "    }\n",
       "</style>\n",
       "<table border=\"1\" class=\"dataframe\">\n",
       "  <thead>\n",
       "    <tr style=\"text-align: right;\">\n",
       "      <th></th>\n",
       "      <th>CreditScore</th>\n",
       "      <th>Age</th>\n",
       "      <th>Tenure</th>\n",
       "      <th>Balance</th>\n",
       "      <th>NumOfProducts</th>\n",
       "      <th>HasCrCard</th>\n",
       "      <th>IsActiveMember</th>\n",
       "      <th>EstimatedSalary</th>\n",
       "      <th>Geography_Germany</th>\n",
       "      <th>Geography_Spain</th>\n",
       "      <th>Gender_Male</th>\n",
       "    </tr>\n",
       "  </thead>\n",
       "  <tbody>\n",
       "    <tr>\n",
       "      <th>3490</th>\n",
       "      <td>453</td>\n",
       "      <td>29</td>\n",
       "      <td>4.99769</td>\n",
       "      <td>0.00</td>\n",
       "      <td>1</td>\n",
       "      <td>0</td>\n",
       "      <td>0</td>\n",
       "      <td>198376.02</td>\n",
       "      <td>False</td>\n",
       "      <td>False</td>\n",
       "      <td>True</td>\n",
       "    </tr>\n",
       "    <tr>\n",
       "      <th>1738</th>\n",
       "      <td>796</td>\n",
       "      <td>41</td>\n",
       "      <td>8.00000</td>\n",
       "      <td>107525.07</td>\n",
       "      <td>1</td>\n",
       "      <td>1</td>\n",
       "      <td>0</td>\n",
       "      <td>18510.41</td>\n",
       "      <td>False</td>\n",
       "      <td>True</td>\n",
       "      <td>True</td>\n",
       "    </tr>\n",
       "    <tr>\n",
       "      <th>7016</th>\n",
       "      <td>741</td>\n",
       "      <td>50</td>\n",
       "      <td>1.00000</td>\n",
       "      <td>78737.61</td>\n",
       "      <td>1</td>\n",
       "      <td>1</td>\n",
       "      <td>1</td>\n",
       "      <td>13018.96</td>\n",
       "      <td>False</td>\n",
       "      <td>True</td>\n",
       "      <td>True</td>\n",
       "    </tr>\n",
       "    <tr>\n",
       "      <th>8665</th>\n",
       "      <td>821</td>\n",
       "      <td>40</td>\n",
       "      <td>1.00000</td>\n",
       "      <td>0.00</td>\n",
       "      <td>2</td>\n",
       "      <td>1</td>\n",
       "      <td>0</td>\n",
       "      <td>194273.12</td>\n",
       "      <td>False</td>\n",
       "      <td>False</td>\n",
       "      <td>False</td>\n",
       "    </tr>\n",
       "    <tr>\n",
       "      <th>1140</th>\n",
       "      <td>618</td>\n",
       "      <td>37</td>\n",
       "      <td>5.00000</td>\n",
       "      <td>96652.86</td>\n",
       "      <td>1</td>\n",
       "      <td>1</td>\n",
       "      <td>0</td>\n",
       "      <td>98686.40</td>\n",
       "      <td>False</td>\n",
       "      <td>False</td>\n",
       "      <td>False</td>\n",
       "    </tr>\n",
       "    <tr>\n",
       "      <th>9590</th>\n",
       "      <td>772</td>\n",
       "      <td>34</td>\n",
       "      <td>7.00000</td>\n",
       "      <td>111565.91</td>\n",
       "      <td>1</td>\n",
       "      <td>1</td>\n",
       "      <td>1</td>\n",
       "      <td>121073.23</td>\n",
       "      <td>True</td>\n",
       "      <td>False</td>\n",
       "      <td>True</td>\n",
       "    </tr>\n",
       "    <tr>\n",
       "      <th>394</th>\n",
       "      <td>594</td>\n",
       "      <td>24</td>\n",
       "      <td>0.00000</td>\n",
       "      <td>97378.54</td>\n",
       "      <td>1</td>\n",
       "      <td>1</td>\n",
       "      <td>1</td>\n",
       "      <td>71405.17</td>\n",
       "      <td>False</td>\n",
       "      <td>True</td>\n",
       "      <td>False</td>\n",
       "    </tr>\n",
       "    <tr>\n",
       "      <th>3415</th>\n",
       "      <td>578</td>\n",
       "      <td>40</td>\n",
       "      <td>4.99769</td>\n",
       "      <td>63609.92</td>\n",
       "      <td>1</td>\n",
       "      <td>0</td>\n",
       "      <td>0</td>\n",
       "      <td>74965.61</td>\n",
       "      <td>False</td>\n",
       "      <td>True</td>\n",
       "      <td>True</td>\n",
       "    </tr>\n",
       "    <tr>\n",
       "      <th>1607</th>\n",
       "      <td>711</td>\n",
       "      <td>64</td>\n",
       "      <td>4.00000</td>\n",
       "      <td>0.00</td>\n",
       "      <td>2</td>\n",
       "      <td>1</td>\n",
       "      <td>1</td>\n",
       "      <td>3185.67</td>\n",
       "      <td>False</td>\n",
       "      <td>False</td>\n",
       "      <td>True</td>\n",
       "    </tr>\n",
       "    <tr>\n",
       "      <th>6529</th>\n",
       "      <td>836</td>\n",
       "      <td>37</td>\n",
       "      <td>4.99769</td>\n",
       "      <td>0.00</td>\n",
       "      <td>2</td>\n",
       "      <td>1</td>\n",
       "      <td>0</td>\n",
       "      <td>111324.41</td>\n",
       "      <td>False</td>\n",
       "      <td>True</td>\n",
       "      <td>False</td>\n",
       "    </tr>\n",
       "  </tbody>\n",
       "</table>\n",
       "</div>"
      ],
      "text/plain": [
       "      CreditScore  Age   Tenure    Balance  NumOfProducts  HasCrCard  \\\n",
       "3490          453   29  4.99769       0.00              1          0   \n",
       "1738          796   41  8.00000  107525.07              1          1   \n",
       "7016          741   50  1.00000   78737.61              1          1   \n",
       "8665          821   40  1.00000       0.00              2          1   \n",
       "1140          618   37  5.00000   96652.86              1          1   \n",
       "9590          772   34  7.00000  111565.91              1          1   \n",
       "394           594   24  0.00000   97378.54              1          1   \n",
       "3415          578   40  4.99769   63609.92              1          0   \n",
       "1607          711   64  4.00000       0.00              2          1   \n",
       "6529          836   37  4.99769       0.00              2          1   \n",
       "\n",
       "      IsActiveMember  EstimatedSalary  Geography_Germany  Geography_Spain  \\\n",
       "3490               0        198376.02              False            False   \n",
       "1738               0         18510.41              False             True   \n",
       "7016               1         13018.96              False             True   \n",
       "8665               0        194273.12              False            False   \n",
       "1140               0         98686.40              False            False   \n",
       "9590               1        121073.23               True            False   \n",
       "394                1         71405.17              False             True   \n",
       "3415               0         74965.61              False             True   \n",
       "1607               1          3185.67              False            False   \n",
       "6529               0        111324.41              False             True   \n",
       "\n",
       "      Gender_Male  \n",
       "3490         True  \n",
       "1738         True  \n",
       "7016         True  \n",
       "8665        False  \n",
       "1140        False  \n",
       "9590         True  \n",
       "394         False  \n",
       "3415         True  \n",
       "1607         True  \n",
       "6529        False  "
      ]
     },
     "execution_count": 18,
     "metadata": {},
     "output_type": "execute_result"
    }
   ],
   "source": [
    "#Comprobemos que todo esté en orden\n",
    "featurs_one.sample(10)"
   ]
  },
  {
   "cell_type": "markdown",
   "metadata": {},
   "source": [
    "# Estandarización de datos  "
   ]
  },
  {
   "cell_type": "code",
   "execution_count": 19,
   "metadata": {},
   "outputs": [
    {
     "name": "stdout",
     "output_type": "stream",
     "text": [
      "(7500, 11)\n",
      "(7500,)\n",
      "(2500, 11)\n",
      "(2500,)\n"
     ]
    }
   ],
   "source": [
    "#Antes de entrenar nuestro modelo vamos a divir los datos en prueba y validación y a estandarizarlos.\n",
    "#Primer dividamos los datos para entrenamiento y validación \n",
    "features_train, features_valid,target_train,target_valid = train_test_split(featurs_one, target, random_state=123, test_size=0.25)\n",
    "print(features_train.shape)\n",
    "print(target_train.shape)\n",
    "print(features_valid.shape)\n",
    "print(target_valid.shape)"
   ]
  },
  {
   "cell_type": "code",
   "execution_count": 20,
   "metadata": {},
   "outputs": [],
   "source": [
    "#estandaricemos nuestros datos con un modelo \n",
    "#Guardemos solo las variables que vamos a estandarizar\n",
    "varias = ['CreditScore','Age','Tenure','Balance','EstimatedSalary',] \n",
    "\n",
    "#estandaricemos\n",
    "scaler = StandardScaler()\n",
    "scaler.fit(features_train[varias])\n",
    "\n",
    "features_train[varias] = scaler.transform(features_train[varias])\n",
    "features_valid[varias] = scaler.transform(features_valid[varias])"
   ]
  },
  {
   "cell_type": "code",
   "execution_count": 21,
   "metadata": {},
   "outputs": [
    {
     "name": "stdout",
     "output_type": "stream",
     "text": [
      "      CreditScore       Age    Tenure   Balance  NumOfProducts  HasCrCard  \\\n",
      "9069    -0.320385 -0.651268 -0.359676  1.578078              2          1   \n",
      "6625     0.072786  0.200087  0.365733  0.570314              1          1   \n",
      "5049     1.386808 -0.083698  1.816552  0.731915              1          0   \n",
      "4765    -0.206572  0.956847 -1.447791 -1.215055              2          0   \n",
      "6101     1.893792 -0.651268  0.365733 -1.215055              1          1   \n",
      "624     -1.789606  0.862252 -1.085086  0.841037              1          0   \n",
      "9377    -0.682517 -1.218837 -1.810495  1.114379              1          1   \n",
      "3462    -2.296591  2.186582 -1.447791  0.500511              1          0   \n",
      "1517     0.972943  1.429822  0.365733  0.278698              2          0   \n",
      "640      1.055716  0.862252  0.003029  0.633063              1          1   \n",
      "\n",
      "      IsActiveMember  EstimatedSalary  Geography_Germany  Geography_Spain  \\\n",
      "9069               1         1.267628              False             True   \n",
      "6625               0        -1.430546              False             True   \n",
      "5049               0         0.797832              False             True   \n",
      "4765               1         1.094983              False             True   \n",
      "6101               1        -0.965027              False             True   \n",
      "624                1        -1.275196              False             True   \n",
      "9377               0         0.091300              False            False   \n",
      "3462               1        -0.720705              False            False   \n",
      "1517               1         0.698926              False            False   \n",
      "640                0         0.986541              False             True   \n",
      "\n",
      "      Gender_Male  \n",
      "9069        False  \n",
      "6625        False  \n",
      "5049         True  \n",
      "4765        False  \n",
      "6101         True  \n",
      "624         False  \n",
      "9377        False  \n",
      "3462        False  \n",
      "1517         True  \n",
      "640          True  \n"
     ]
    }
   ],
   "source": [
    "print(features_train.sample(10))"
   ]
  },
  {
   "cell_type": "markdown",
   "metadata": {},
   "source": [
    "Ya hemos dividido nuestros datos, quitado columnas que no necesitamos y estandarizamos los datos. Por ahora no vamos a lidiar con el desbalance de los datos.  Creemos nuestros modelos "
   ]
  },
  {
   "cell_type": "markdown",
   "metadata": {},
   "source": [
    "# Modelos en desbalance"
   ]
  },
  {
   "cell_type": "markdown",
   "metadata": {},
   "source": [
    "### Regresión Logística con desbalanceo"
   ]
  },
  {
   "cell_type": "code",
   "execution_count": 22,
   "metadata": {},
   "outputs": [
    {
     "name": "stdout",
     "output_type": "stream",
     "text": [
      "La exactitud del modelo es de: 0.8132\n",
      "El f1 Score del modelo es de : 0.3338088445078459\n"
     ]
    }
   ],
   "source": [
    "#Hagamos un modelo de regresión logística con los datos como los tenemos\n",
    "l_model = LogisticRegression(random_state=123, solver='liblinear')\n",
    "l_model.fit(features_train,target_train)\n",
    "l_pred = l_model.predict(features_valid)\n",
    "ac_score = l_model.score(features_valid,target_valid)\n",
    "l_f1_score= f1_score(target_valid,l_pred)\n",
    "\n",
    "print('La exactitud del modelo es de:', ac_score)\n",
    "print('El f1 Score del modelo es de :',l_f1_score)"
   ]
  },
  {
   "cell_type": "code",
   "execution_count": 23,
   "metadata": {},
   "outputs": [
    {
     "name": "stdout",
     "output_type": "stream",
     "text": [
      "[[1916   67]\n",
      " [ 400  117]]\n"
     ]
    }
   ],
   "source": [
    "print(confusion_matrix(target_valid,l_pred))"
   ]
  },
  {
   "cell_type": "code",
   "execution_count": 24,
   "metadata": {},
   "outputs": [
    {
     "name": "stdout",
     "output_type": "stream",
     "text": [
      "              precision    recall  f1-score   support\n",
      "\n",
      "           0       0.83      0.97      0.89      1983\n",
      "           1       0.64      0.23      0.33       517\n",
      "\n",
      "    accuracy                           0.81      2500\n",
      "   macro avg       0.73      0.60      0.61      2500\n",
      "weighted avg       0.79      0.81      0.78      2500\n",
      "\n"
     ]
    }
   ],
   "source": [
    "print(classification_report(target_valid,l_pred))"
   ]
  },
  {
   "cell_type": "markdown",
   "metadata": {},
   "source": [
    "Podemos observar que para el caso de nuestro modelo de Regresión logística sin balancear tenemos una precisión de 0.64, un recall de 0.23 y un f1-score de 0.33 "
   ]
  },
  {
   "cell_type": "markdown",
   "metadata": {},
   "source": [
    "### Bsoque Aleatorio con desbalanceo"
   ]
  },
  {
   "cell_type": "code",
   "execution_count": 25,
   "metadata": {},
   "outputs": [
    {
     "name": "stdout",
     "output_type": "stream",
     "text": [
      "El mejor modelo tiene n_estimators=17 y un score f1 de: 0.6011428571428571\n"
     ]
    }
   ],
   "source": [
    "#Ahora creamos un modelo de bosque aleatorio y encontremo la mejor configuración \n",
    "r_best_f1 = 0\n",
    "r_best_est = 0\n",
    "for est in range(1, 100):\n",
    "    r_model = RandomForestClassifier(random_state=123, n_estimators=est)\n",
    "    r_model.fit(features_train,target_train)\n",
    "    r_pred = r_model.predict(features_valid)\n",
    "    r_f1 = f1_score(target_valid,r_pred)\n",
    "    if r_f1 > r_best_f1:\n",
    "        r_best_f1 = r_f1\n",
    "        r_best_est = est\n",
    "\n",
    "print(f'El mejor modelo tiene n_estimators={r_best_est} y un score f1 de: {r_best_f1}')"
   ]
  },
  {
   "cell_type": "code",
   "execution_count": 26,
   "metadata": {},
   "outputs": [
    {
     "name": "stdout",
     "output_type": "stream",
     "text": [
      "[[1907   76]\n",
      " [ 272  245]]\n"
     ]
    }
   ],
   "source": [
    "print(confusion_matrix(target_valid,r_pred))"
   ]
  },
  {
   "cell_type": "code",
   "execution_count": 27,
   "metadata": {},
   "outputs": [
    {
     "name": "stdout",
     "output_type": "stream",
     "text": [
      "              precision    recall  f1-score   support\n",
      "\n",
      "           0       0.88      0.96      0.92      1983\n",
      "           1       0.76      0.47      0.58       517\n",
      "\n",
      "    accuracy                           0.86      2500\n",
      "   macro avg       0.82      0.72      0.75      2500\n",
      "weighted avg       0.85      0.86      0.85      2500\n",
      "\n"
     ]
    }
   ],
   "source": [
    "print(classification_report(target_valid,r_pred))"
   ]
  },
  {
   "cell_type": "markdown",
   "metadata": {},
   "source": [
    "Podemos observar que aunque el modelo tenga una exactitud alta , el valor que nos interesa (F1) sigue siendo bajo, En el caso de la regresión no llega a la metrica que estamos buscando (0.59) y para el caso del arból de desición apenas pasa el umbral que tenemos. \n",
    "\n",
    "En un principio observamos que las clases están desbalanceados y podemos suponer que es por eso que el modelo arroja estos resultados. Ahora vamos a balancear las clases y probar mejorar el modelo. "
   ]
  },
  {
   "cell_type": "markdown",
   "metadata": {},
   "source": [
    "# Correción del Desbalanceo (Sobremuestreo)"
   ]
  },
  {
   "cell_type": "markdown",
   "metadata": {},
   "source": [
    "### Sobremuestreo"
   ]
  },
  {
   "cell_type": "code",
   "execution_count": 28,
   "metadata": {},
   "outputs": [],
   "source": [
    "#Vamos a probar primero con un sobremuestreo \n",
    "#Dividamos el conjunto en observaciones negativas y positivas \n",
    "features_zero = features_train[target_train == 0]\n",
    "features_one = features_train[target_train == 1]\n",
    "target_zero = target_train[target_train == 0]\n",
    "target_one = target_train[target_train == 1]\n",
    "\n",
    "#Dupliquemos las observaciones positivas\n",
    "feat_upsample = pd.concat([features_zero] + [features_one] * 3)\n",
    "targ_unsample = pd.concat([target_zero] + [target_one] * 3)\n",
    "\n",
    "feat_upsample, targ_unsample = shuffle(feat_upsample, targ_unsample, random_state=123)"
   ]
  },
  {
   "cell_type": "markdown",
   "metadata": {},
   "source": [
    "### Prueba con Modelo de Regresión y sobremuestreo"
   ]
  },
  {
   "cell_type": "code",
   "execution_count": 29,
   "metadata": {},
   "outputs": [
    {
     "name": "stdout",
     "output_type": "stream",
     "text": [
      "El modelo predice f1 como: 0.5069958847736625\n"
     ]
    }
   ],
   "source": [
    "#Probemos con un modelo de Regresión \n",
    "md = LogisticRegression(random_state=123, solver='liblinear')\n",
    "md.fit(feat_upsample,targ_unsample)\n",
    "pred_val = md.predict(features_valid)\n",
    "f1_regression = f1_score(target_valid,pred_val)\n",
    "\n",
    "print('El modelo predice f1 como:', f1_regression)"
   ]
  },
  {
   "cell_type": "code",
   "execution_count": 30,
   "metadata": {},
   "outputs": [
    {
     "name": "stdout",
     "output_type": "stream",
     "text": [
      "[[1593  390]\n",
      " [ 209  308]]\n"
     ]
    }
   ],
   "source": [
    "print(confusion_matrix(target_valid, pred_val))"
   ]
  },
  {
   "cell_type": "code",
   "execution_count": 31,
   "metadata": {},
   "outputs": [
    {
     "name": "stdout",
     "output_type": "stream",
     "text": [
      "              precision    recall  f1-score   support\n",
      "\n",
      "           0       0.88      0.80      0.84      1983\n",
      "           1       0.44      0.60      0.51       517\n",
      "\n",
      "    accuracy                           0.76      2500\n",
      "   macro avg       0.66      0.70      0.67      2500\n",
      "weighted avg       0.79      0.76      0.77      2500\n",
      "\n"
     ]
    }
   ],
   "source": [
    "print(classification_report(target_valid, pred_val))"
   ]
  },
  {
   "cell_type": "code",
   "execution_count": 32,
   "metadata": {},
   "outputs": [
    {
     "name": "stdout",
     "output_type": "stream",
     "text": [
      "El valor AUC- ROC para el modelo de Regresión con sobremuestreo es: 0.7802657209101345\n"
     ]
    }
   ],
   "source": [
    "probal_val = md.predict_proba(features_valid)\n",
    "probal_one_val = probal_val[:, 1]\n",
    "\n",
    "auc_roc_md = roc_auc_score(target_valid, probal_one_val)\n",
    "\n",
    "print('El valor AUC- ROC para el modelo de Regresión con sobremuestreo es:', auc_roc_md)"
   ]
  },
  {
   "cell_type": "markdown",
   "metadata": {},
   "source": [
    "Podemos observar que una vez que balanceamos nuestros datos con un sobremuestreo, el modelo de regresíon logística mejora. Baja la presición un poco de 0.64 a 0.44, sube el Recallde 0.23 a 0.6 y el F1 pasa de 0,33 a 0.51. En general es una buena mejora de nuestro modelo, pero sigue sin ser óptima y no alcanza el mínimo requerido.  "
   ]
  },
  {
   "cell_type": "markdown",
   "metadata": {},
   "source": [
    "### Prueba con Bosque Aleatorio y sobremuestreo"
   ]
  },
  {
   "cell_type": "code",
   "execution_count": 33,
   "metadata": {},
   "outputs": [
    {
     "name": "stdout",
     "output_type": "stream",
     "text": [
      "El mejor modelo tiene n_estimators=71 y un score f1 de: 0.6147278548559232\n"
     ]
    }
   ],
   "source": [
    "#entrenamos nuestro modelo y busquemos la mejor configuración para nuestro arbol de decisión\n",
    "bst_f1 = 0\n",
    "bst_est = 0\n",
    "for lest in range(1, 100):\n",
    "    t_m = RandomForestClassifier(random_state=123, n_estimators=lest)\n",
    "    t_m.fit(feat_upsample,targ_unsample)\n",
    "    t_pred = t_m.predict(features_valid)\n",
    "    t_f1 = f1_score(target_valid,t_pred)\n",
    "    if t_f1 > bst_f1:\n",
    "        bst_f1 = t_f1\n",
    "        bst_est = lest\n",
    "\n",
    "print(f'El mejor modelo tiene n_estimators={bst_est} y un score f1 de: {bst_f1}')"
   ]
  },
  {
   "cell_type": "code",
   "execution_count": 34,
   "metadata": {},
   "outputs": [
    {
     "name": "stdout",
     "output_type": "stream",
     "text": [
      "[[1850  133]\n",
      " [ 234  283]]\n"
     ]
    }
   ],
   "source": [
    "print(confusion_matrix(target_valid, t_pred))"
   ]
  },
  {
   "cell_type": "code",
   "execution_count": 35,
   "metadata": {},
   "outputs": [
    {
     "name": "stdout",
     "output_type": "stream",
     "text": [
      "              precision    recall  f1-score   support\n",
      "\n",
      "           0       0.89      0.93      0.91      1983\n",
      "           1       0.68      0.55      0.61       517\n",
      "\n",
      "    accuracy                           0.85      2500\n",
      "   macro avg       0.78      0.74      0.76      2500\n",
      "weighted avg       0.84      0.85      0.85      2500\n",
      "\n"
     ]
    }
   ],
   "source": [
    "print(classification_report(target_valid, t_pred))"
   ]
  },
  {
   "cell_type": "code",
   "execution_count": 36,
   "metadata": {},
   "outputs": [
    {
     "name": "stdout",
     "output_type": "stream",
     "text": [
      "El valor AUC- ROC para el modelo de Arbol de decisión con sobremuestreo es: 0.8541036918253901\n"
     ]
    }
   ],
   "source": [
    "# Calculemos el valor AUC -ROC de nuestro modelo \n",
    "proba_t_m = t_m.predict_proba(features_valid)\n",
    "proba_one_t_m = proba_t_m[:, 1]\n",
    "\n",
    "auc_roc_t_m = roc_auc_score(target_valid, proba_one_t_m)\n",
    "\n",
    "print('El valor AUC- ROC para el modelo de Arbol de decisión con sobremuestreo es:', auc_roc_t_m)"
   ]
  },
  {
   "cell_type": "markdown",
   "metadata": {},
   "source": [
    "En nuestro modelo de arbol de desición despues del balanceo por sobremuestreo podemos observar que la presición disminuye de 0.76 a 0.78 y aumenta nuestro Recall de 0.47 a 0.55. El F1 score sube un poco pasando de 0.58 a 0.61, lo cual nos indica que nuestro modelo está mejorando pero no es significativo el aumento. En este caso, nuestro modelo si alcanza el umbral de 0.59. "
   ]
  },
  {
   "cell_type": "markdown",
   "metadata": {},
   "source": [
    "# Correción del Desbalanceo (Submuestreo)"
   ]
  },
  {
   "cell_type": "code",
   "execution_count": 37,
   "metadata": {},
   "outputs": [
    {
     "name": "stdout",
     "output_type": "stream",
     "text": [
      "(3314, 11)\n",
      "(3314,)\n"
     ]
    }
   ],
   "source": [
    "# Ahora veamos si mejor con un submuestreo \n",
    "#Dividamos el conjunto en observaciones negativas y positivas \n",
    "feat_zero = features_train[target_train == 0]\n",
    "feat_one = features_train[target_train == 1]\n",
    "targ_zero = target_train[target_train == 0]\n",
    "targ_one = target_train[target_train == 1]\n",
    "\n",
    "#Tomemos una fracción de los datos para reducir las muestras con las  que entrenaremos el modelo\n",
    "feat_downsample = pd.concat([feat_zero.sample(frac=0.3,random_state=123)] + [feat_one])\n",
    "targ_downsample = pd.concat([targ_zero.sample(frac=0.3,random_state=123)] + [targ_one])\n",
    "\n",
    "#barajemos los datos\n",
    "feat_downsample, targ_downsample = shuffle(feat_downsample, targ_downsample, random_state=123)\n",
    "\n",
    "print(feat_downsample.shape)\n",
    "print(targ_downsample.shape)"
   ]
  },
  {
   "cell_type": "markdown",
   "metadata": {},
   "source": [
    "### Modelo de Regresión logistica con submuestreo "
   ]
  },
  {
   "cell_type": "code",
   "execution_count": 38,
   "metadata": {},
   "outputs": [
    {
     "name": "stdout",
     "output_type": "stream",
     "text": [
      "El modelo predice f1 como: 0.5098934550989346\n"
     ]
    }
   ],
   "source": [
    "m1 = LogisticRegression(random_state=123, solver='liblinear')\n",
    "m1.fit(feat_downsample,targ_downsample)\n",
    "m1_pred = m1.predict(features_valid)\n",
    "m1_f1 = f1_score(target_valid,m1_pred)\n",
    "\n",
    "print('El modelo predice f1 como:', m1_f1)"
   ]
  },
  {
   "cell_type": "code",
   "execution_count": 39,
   "metadata": {},
   "outputs": [
    {
     "name": "stdout",
     "output_type": "stream",
     "text": [
      "[[1521  462]\n",
      " [ 182  335]]\n"
     ]
    }
   ],
   "source": [
    "print(confusion_matrix(target_valid, m1_pred))"
   ]
  },
  {
   "cell_type": "code",
   "execution_count": 40,
   "metadata": {},
   "outputs": [
    {
     "name": "stdout",
     "output_type": "stream",
     "text": [
      "              precision    recall  f1-score   support\n",
      "\n",
      "           0       0.89      0.77      0.83      1983\n",
      "           1       0.42      0.65      0.51       517\n",
      "\n",
      "    accuracy                           0.74      2500\n",
      "   macro avg       0.66      0.71      0.67      2500\n",
      "weighted avg       0.80      0.74      0.76      2500\n",
      "\n"
     ]
    }
   ],
   "source": [
    "print(classification_report(target_valid, m1_pred))"
   ]
  },
  {
   "cell_type": "code",
   "execution_count": 41,
   "metadata": {},
   "outputs": [
    {
     "name": "stdout",
     "output_type": "stream",
     "text": [
      "El valor AUC- ROC para el modelo de Regresión con submuestreo es: 0.782542325433496\n"
     ]
    }
   ],
   "source": [
    "proba_val = m1.predict_proba(features_valid)\n",
    "proba_one_val = proba_val[:, 1]\n",
    "\n",
    "auc_roc_m1 = roc_auc_score(target_valid, proba_one_val)\n",
    "\n",
    "print('El valor AUC- ROC para el modelo de Regresión con submuestreo es:', auc_roc_m1)"
   ]
  },
  {
   "cell_type": "markdown",
   "metadata": {},
   "source": [
    "Podemos observar que nuestro modelo de regresión logística con submuestreo es un poco mejor que con sobremuestreo. Pero no cumple con el minimo de 0.59 necesario "
   ]
  },
  {
   "cell_type": "markdown",
   "metadata": {},
   "source": [
    "### Modelo de Bosque Aleatorio con submuestreo "
   ]
  },
  {
   "cell_type": "code",
   "execution_count": 42,
   "metadata": {},
   "outputs": [
    {
     "name": "stdout",
     "output_type": "stream",
     "text": [
      "El mejor modelo tiene n_estimators=60 y un score f1 de: 0.617124394184168\n"
     ]
    }
   ],
   "source": [
    "f1_best = 0\n",
    "est_best = 0\n",
    "for iest in range(1, 100):\n",
    "    tmr = RandomForestClassifier(random_state=123, n_estimators=iest)\n",
    "    tmr.fit(feat_downsample,targ_downsample)\n",
    "    tmr_pred = tmr.predict(features_valid)\n",
    "    tmr_f1 = f1_score(target_valid,tmr_pred)\n",
    "    if tmr_f1 > f1_best:\n",
    "        f1_best = tmr_f1\n",
    "        est_best = iest\n",
    "\n",
    "print(f'El mejor modelo tiene n_estimators={est_best} y un score f1 de: {f1_best}')"
   ]
  },
  {
   "cell_type": "code",
   "execution_count": 43,
   "metadata": {},
   "outputs": [
    {
     "data": {
      "image/png": "[encoded data removed]",
      "text/plain": [
       "<Figure size 640x480 with 2 Axes>"
      ]
     },
     "metadata": {},
     "output_type": "display_data"
    }
   ],
   "source": [
    "conf_matrix = confusion_matrix(target_valid, tmr_pred, normalize='true')\n",
    "sns.heatmap(conf_matrix, annot=True, fmt=\".2f\", cmap=\"Blues\")\n",
    "plt.xlabel('Predicted')\n",
    "plt.ylabel('Actual')\n",
    "plt.title('Normalized Confusion Matrix')\n",
    "plt.show()"
   ]
  },
  {
   "cell_type": "code",
   "execution_count": 44,
   "metadata": {},
   "outputs": [
    {
     "name": "stdout",
     "output_type": "stream",
     "text": [
      "[[1639  344]\n",
      " [ 138  379]]\n"
     ]
    }
   ],
   "source": [
    "print(confusion_matrix(target_valid, tmr_pred))"
   ]
  },
  {
   "cell_type": "code",
   "execution_count": 45,
   "metadata": {},
   "outputs": [
    {
     "name": "stdout",
     "output_type": "stream",
     "text": [
      "              precision    recall  f1-score   support\n",
      "\n",
      "           0       0.92      0.83      0.87      1983\n",
      "           1       0.52      0.73      0.61       517\n",
      "\n",
      "    accuracy                           0.81      2500\n",
      "   macro avg       0.72      0.78      0.74      2500\n",
      "weighted avg       0.84      0.81      0.82      2500\n",
      "\n"
     ]
    }
   ],
   "source": [
    "print(classification_report(target_valid, tmr_pred))"
   ]
  },
  {
   "cell_type": "code",
   "execution_count": 46,
   "metadata": {},
   "outputs": [
    {
     "name": "stdout",
     "output_type": "stream",
     "text": [
      "El valor AUC- ROC para el modelo de Arbol de decisión con submuestreo es: 0.8612168616996893\n"
     ]
    }
   ],
   "source": [
    "proba_tmr = tmr.predict_proba(features_valid)\n",
    "proba_one_tmr = proba_tmr[:, 1]\n",
    "\n",
    "auc_roc_tmr = roc_auc_score(target_valid, proba_one_tmr)\n",
    "\n",
    "print('El valor AUC- ROC para el modelo de Arbol de decisión con submuestreo es:', auc_roc_tmr)"
   ]
  },
  {
   "cell_type": "markdown",
   "metadata": {},
   "source": [
    "En definitiva , el Modelo de Bosque aleatorio con Submuestreo muestra ser el mejor de todos los que hemos probado con un valor F1 de 0.6171 y un valor AUC-ROC de 0.8612"
   ]
  },
  {
   "cell_type": "markdown",
   "metadata": {},
   "source": [
    "## Curva ROC para nuestro mejor modelo (Bosque aleatorio con submuestreo)"
   ]
  },
  {
   "cell_type": "code",
   "execution_count": 47,
   "metadata": {},
   "outputs": [
    {
     "data": {
      "text/plain": [
       "Text(0.5, 1.0, 'Curva ROC')"
      ]
     },
     "execution_count": 47,
     "metadata": {},
     "output_type": "execute_result"
    },
    {
     "data": {
      "image/png": "[encoded data removed]",
      "text/plain": [
       "<Figure size 640x480 with 1 Axes>"
      ]
     },
     "metadata": {},
     "output_type": "display_data"
    }
   ],
   "source": [
    "fpr, tpr, thresholds = roc_curve(target_valid, proba_one_tmr)\n",
    "\n",
    "plt.figure()\n",
    "plt.plot(fpr, tpr)\n",
    "plt.plot([0, 1], [0, 1], linestyle='--')\n",
    "plt.xlim([0.0 , 1.0])\n",
    "plt.ylim([0.0, 1.0])\n",
    "plt.xlabel('Tasa de falsos positivos')\n",
    "plt.ylabel('Tasa de verdaderos positivos')\n",
    "plt.title('Curva ROC')"
   ]
  },
  {
   "cell_type": "code",
   "execution_count": 48,
   "metadata": {},
   "outputs": [
    {
     "name": "stdout",
     "output_type": "stream",
     "text": [
      "El valor AUC- ROC para nuestro mejor modelo (Arbol de decisión con submuestreo) es: 0.8612168616996893\n"
     ]
    }
   ],
   "source": [
    "#volvamos a sacar nuestro AUC-ROC de este modelo \n",
    "\n",
    "proba_tmr = tmr.predict_proba(features_valid)\n",
    "proba_one_tmr = proba_tmr[:, 1]\n",
    "\n",
    "auc_roc_tmr = roc_auc_score(target_valid, proba_one_tmr)\n",
    "\n",
    "print('El valor AUC- ROC para nuestro mejor modelo (Arbol de decisión con submuestreo) es:', auc_roc_tmr)"
   ]
  },
  {
   "cell_type": "markdown",
   "metadata": {},
   "source": [
    "# Conclusiones "
   ]
  },
  {
   "cell_type": "markdown",
   "metadata": {},
   "source": [
    "Probamos 2 modelos: Bosque Aleatorio y Regresión logística. \n",
    "\n",
    "Los modelos los probamos en 3 escenarios. Con datos desbalanceados, con datos balanceados con un sobremuestreo y con datos balanceados con submuestreo. \n",
    "\n",
    "De los 3 escenarios el mejor escenario para nuestros modelos fue con datos balanceados con submuestreo y de los 2 modelos el que mejor rendimiento tuvo fue el de Bosque de desiciones. \n",
    "\n",
    "Nuestro mejor modelo obtuvo un valor F1 de 0.6171, una precisión de 0.52 y un Recall de 0.73. Lo que excede el umbral de f1 que fue puesto para este proyecto de 0.59.  Despues de calcular la curva ROC y obtener el valor AUC-ROC observamos que nuestro modelo tiene un valor AUR-ROC de 0.86 lo cual es un buen indicador para las predicciones de nuestro modelo en general. \n"
   ]
  }
 ],
 "metadata": {
  "kernelspec": {
   "display_name": "Python 3",
   "language": "python",
   "name": "python3"
  },
  "language_info": {
   "codemirror_mode": {
    "name": "ipython",
    "version": 3
   },
   "file_extension": ".py",
   "mimetype": "text/x-python",
   "name": "python",
   "nbconvert_exporter": "python",
   "pygments_lexer": "ipython3",
   "version": "3.13.1"
  }
 },
 "nbformat": 4,
 "nbformat_minor": 2
}
